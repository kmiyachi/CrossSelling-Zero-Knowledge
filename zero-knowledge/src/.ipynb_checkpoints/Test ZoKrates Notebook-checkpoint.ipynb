{
 "cells": [
  {
   "cell_type": "code",
   "execution_count": 1,
   "metadata": {},
   "outputs": [],
   "source": [
    "from web3.contract import ConciseContract\n",
    "from web3 import Web3, HTTPProvider\n",
    "import json\n",
    "import numpy as np\n",
    "import pandas as pd"
   ]
  },
  {
   "cell_type": "code",
   "execution_count": 2,
   "metadata": {},
   "outputs": [],
   "source": [
    "w3 = Web3(HTTPProvider('http://localhost:8545'))\n",
    "\n",
    "x = \"\"\n",
    "with open(\"./abi.txt\") as f:\n",
    "    x = \"\".join(line.strip() for line in f)\n",
    "# Get the address and ABI of the contract\n",
    "verifier = Web3.toChecksumAddress('0x45ba66cba65ed9981531d8efda4a26d42059a921')\n",
    "abi = json.loads(x)\n",
    "\n",
    "# Create a contract object\n",
    "contract = w3.eth.contract(\n",
    "    address=verifier,\n",
    "    abi=abi\n",
    ")"
   ]
  },
  {
   "cell_type": "code",
   "execution_count": 3,
   "metadata": {},
   "outputs": [],
   "source": [
    "A = [0x2dace814e772525d901580bf2dcad21fe6459b5437656b95856825386af8ee91,\n",
    "     0x2efd0f520ddbb18e9aa24b95c8dcf34a182f43e3040d7e0462ecd1f7d20845c2]\n",
    "A_p = [0x78c886c8b33ba46df41e1b80d0da19b2ad943e583f6c369fa6e4e75de2b23d8,\n",
    "       0xc2f97b9d5b5310fdecd43cda192790d692ccf5bd23f9bcd90365d4d2f2f9b9f]\n",
    "B = [[0x1b2362c5b90d4a793fc6996d6f0a19dd610ff3d71874ab398567cd571a9250aa, 0xecf552b5c810f905e7ad8fd3c66264118b0a04fbf9e452da286a61d47b68be0], [\n",
    "    0x9afcb241804da8000915fa6654a4fbdb7f5aa576cbb90a448e8aef7ebeaec60, 0x2a6a557933e73e997c25efde433b4abece9d495fd72b5ec3a34c8016b403d066]]\n",
    "B_p = [0x20b2afea9dcaa67ff3b06b5f67c538e0f7d0aae5b007297f386fc213fdee2c5f,\n",
    "       0x1849aa86ceff577d00ebe394250d6dddf00fe1b2d43f9516c94c42b87aab5a3a]\n",
    "C = [0x287e32affc258ef4df70b37114b56fc8b51858e438e3d495516fd4ab60d5519b,\n",
    "     0x1febfacf6407e12484a403dead830a83e577cadad87346a496dc11c50235da23]\n",
    "C_p = [0xef17bb811123d5ec443c954bd7d0ccf65b0abba3e203c51a9a8eb97c3ca8490,\n",
    "       0x6c143e8d2be28838db448a78557e015d9d0966dd9e56c54d602e1dcd4ed643c]\n",
    "H = [0x13bf65b08877be9a0a67b212eccbac52a90fac73eb74fcdb39b1fb5cb180f5ff,\n",
    "     0x2d7cd0b618ea7d2626f5576da572d2269b333de930d75c1605778ac4631bdcb2]\n",
    "K = [0x37b4c5ede75d8625c77f9f0caf8354f8680d44f4e5a4d76cf0bcd93f43830ed,\n",
    "     0x2bd85b4556195ae59414dcbfd5b3d8e2b2f913da70d92eee13b61ca987351bf2]\n",
    "\n",
    "KenList = [A, A_p, B, B_p, C, C_p, H, K]\n",
    "ProofMap = {}\n",
    "ProofMap[1] = KenList"
   ]
  },
  {
   "cell_type": "code",
   "execution_count": 4,
   "metadata": {},
   "outputs": [
    {
     "name": "stdout",
     "output_type": "stream",
     "text": [
      "<web3.contract.ContractFunctions object at 0x11708cf60>\n"
     ]
    }
   ],
   "source": [
    "# Set gas and gas price\n",
    "params = {\n",
    "    'gasPrice': 20000000000,\n",
    "    'gas': 4000000,\n",
    "    'from': w3.eth.accounts[0],\n",
    "}\n",
    "\n",
    "# Correct input\n",
    "I = [1, 99]\n",
    "# Verify\n",
    "\n",
    "print(contract.functions)"
   ]
  },
  {
   "cell_type": "code",
   "execution_count": 5,
   "metadata": {},
   "outputs": [
    {
     "ename": "ValueError",
     "evalue": "{'message': 'Attempting to run transaction which calls a contract function, but recipient address 0x9Da037af58a3fb4c2C7FF8c0814463AA6631B872 is not a contract address', 'code': -32000, 'data': {'stack': 'r: Attempting to run transaction which calls a contract function, but recipient address 0x9Da037af58a3fb4c2C7FF8c0814463AA6631B872 is not a contract address\\n    at /usr/local/lib/node_modules/ganache-cli/build/cli.node.js:149:77112\\n    at /usr/local/lib/node_modules/ganache-cli/build/cli.node.js:149:67771\\n    at /usr/local/lib/node_modules/ganache-cli/build/cli.node.js:30:126629\\n    at e.exports.i.getCode (/usr/local/lib/node_modules/ganache-cli/build/cli.node.js:2:123698)\\n    at /usr/local/lib/node_modules/ganache-cli/build/cli.node.js:30:126579\\n    at /usr/local/lib/node_modules/ganache-cli/build/cli.node.js:149:50739\\n    at /usr/local/lib/node_modules/ganache-cli/build/cli.node.js:149:54500\\n    at Object.return (/usr/local/lib/node_modules/ganache-cli/build/cli.node.js:149:54077)\\n    at /usr/local/lib/node_modules/ganache-cli/build/cli.node.js:149:52402\\n    at e (/usr/local/lib/node_modules/ganache-cli/build/cli.node.js:149:54448)\\n    at /usr/local/lib/node_modules/ganache-cli/build/cli.node.js:149:54431\\n    at /usr/local/lib/node_modules/ganache-cli/build/cli.node.js:149:51541\\n    at process._tickCallback (internal/process/next_tick.js:61:11)', 'name': 'r'}}",
     "output_type": "error",
     "traceback": [
      "\u001b[0;31m---------------------------------------------------------------------------\u001b[0m",
      "\u001b[0;31mValueError\u001b[0m                                Traceback (most recent call last)",
      "\u001b[0;32m<ipython-input-5-d8be42cd4a1a>\u001b[0m in \u001b[0;36m<module>\u001b[0;34m()\u001b[0m\n\u001b[1;32m      1\u001b[0m txhash = contract.functions.verifyTx(\n\u001b[0;32m----> 2\u001b[0;31m     A, A_p, B, B_p, C, C_p, H, K, I).call()\n\u001b[0m\u001b[1;32m      3\u001b[0m \u001b[0;34m\u001b[0m\u001b[0m\n\u001b[1;32m      4\u001b[0m \u001b[0;31m# Check success\u001b[0m\u001b[0;34m\u001b[0m\u001b[0;34m\u001b[0m\u001b[0m\n\u001b[1;32m      5\u001b[0m \u001b[0mprint\u001b[0m\u001b[0;34m(\u001b[0m\u001b[0mtxhash\u001b[0m\u001b[0;34m)\u001b[0m\u001b[0;34m\u001b[0m\u001b[0m\n",
      "\u001b[0;32m~/anaconda3/lib/python3.7/site-packages/web3/contract.py\u001b[0m in \u001b[0;36mcall\u001b[0;34m(self, transaction, block_identifier)\u001b[0m\n\u001b[1;32m   1118\u001b[0m             \u001b[0mself\u001b[0m\u001b[0;34m.\u001b[0m\u001b[0mabi\u001b[0m\u001b[0;34m,\u001b[0m\u001b[0;34m\u001b[0m\u001b[0m\n\u001b[1;32m   1119\u001b[0m             \u001b[0;34m*\u001b[0m\u001b[0mself\u001b[0m\u001b[0;34m.\u001b[0m\u001b[0margs\u001b[0m\u001b[0;34m,\u001b[0m\u001b[0;34m\u001b[0m\u001b[0m\n\u001b[0;32m-> 1120\u001b[0;31m             \u001b[0;34m**\u001b[0m\u001b[0mself\u001b[0m\u001b[0;34m.\u001b[0m\u001b[0mkwargs\u001b[0m\u001b[0;34m\u001b[0m\u001b[0m\n\u001b[0m\u001b[1;32m   1121\u001b[0m         )\n\u001b[1;32m   1122\u001b[0m \u001b[0;34m\u001b[0m\u001b[0m\n",
      "\u001b[0;32m~/anaconda3/lib/python3.7/site-packages/web3/contract.py\u001b[0m in \u001b[0;36mcall_contract_function\u001b[0;34m(web3, address, normalizers, function_identifier, transaction, block_id, contract_abi, fn_abi, *args, **kwargs)\u001b[0m\n\u001b[1;32m   1367\u001b[0m         \u001b[0mreturn_data\u001b[0m \u001b[0;34m=\u001b[0m \u001b[0mweb3\u001b[0m\u001b[0;34m.\u001b[0m\u001b[0meth\u001b[0m\u001b[0;34m.\u001b[0m\u001b[0mcall\u001b[0m\u001b[0;34m(\u001b[0m\u001b[0mcall_transaction\u001b[0m\u001b[0;34m)\u001b[0m\u001b[0;34m\u001b[0m\u001b[0m\n\u001b[1;32m   1368\u001b[0m     \u001b[0;32melse\u001b[0m\u001b[0;34m:\u001b[0m\u001b[0;34m\u001b[0m\u001b[0m\n\u001b[0;32m-> 1369\u001b[0;31m         \u001b[0mreturn_data\u001b[0m \u001b[0;34m=\u001b[0m \u001b[0mweb3\u001b[0m\u001b[0;34m.\u001b[0m\u001b[0meth\u001b[0m\u001b[0;34m.\u001b[0m\u001b[0mcall\u001b[0m\u001b[0;34m(\u001b[0m\u001b[0mcall_transaction\u001b[0m\u001b[0;34m,\u001b[0m \u001b[0mblock_identifier\u001b[0m\u001b[0;34m=\u001b[0m\u001b[0mblock_id\u001b[0m\u001b[0;34m)\u001b[0m\u001b[0;34m\u001b[0m\u001b[0m\n\u001b[0m\u001b[1;32m   1370\u001b[0m \u001b[0;34m\u001b[0m\u001b[0m\n\u001b[1;32m   1371\u001b[0m     \u001b[0;32mif\u001b[0m \u001b[0mfn_abi\u001b[0m \u001b[0;32mis\u001b[0m \u001b[0;32mNone\u001b[0m\u001b[0;34m:\u001b[0m\u001b[0;34m\u001b[0m\u001b[0m\n",
      "\u001b[0;32m~/anaconda3/lib/python3.7/site-packages/eth_utils/functional.py\u001b[0m in \u001b[0;36minner\u001b[0;34m(*args, **kwargs)\u001b[0m\n\u001b[1;32m     18\u001b[0m         \u001b[0;34m@\u001b[0m\u001b[0mfunctools\u001b[0m\u001b[0;34m.\u001b[0m\u001b[0mwraps\u001b[0m\u001b[0;34m(\u001b[0m\u001b[0mfn\u001b[0m\u001b[0;34m)\u001b[0m\u001b[0;34m\u001b[0m\u001b[0m\n\u001b[1;32m     19\u001b[0m         \u001b[0;32mdef\u001b[0m \u001b[0minner\u001b[0m\u001b[0;34m(\u001b[0m\u001b[0;34m*\u001b[0m\u001b[0margs\u001b[0m\u001b[0;34m,\u001b[0m \u001b[0;34m**\u001b[0m\u001b[0mkwargs\u001b[0m\u001b[0;34m)\u001b[0m\u001b[0;34m:\u001b[0m\u001b[0;34m\u001b[0m\u001b[0m\n\u001b[0;32m---> 20\u001b[0;31m             \u001b[0;32mreturn\u001b[0m \u001b[0mcallback\u001b[0m\u001b[0;34m(\u001b[0m\u001b[0mfn\u001b[0m\u001b[0;34m(\u001b[0m\u001b[0;34m*\u001b[0m\u001b[0margs\u001b[0m\u001b[0;34m,\u001b[0m \u001b[0;34m**\u001b[0m\u001b[0mkwargs\u001b[0m\u001b[0;34m)\u001b[0m\u001b[0;34m)\u001b[0m\u001b[0;34m\u001b[0m\u001b[0m\n\u001b[0m\u001b[1;32m     21\u001b[0m \u001b[0;34m\u001b[0m\u001b[0m\n\u001b[1;32m     22\u001b[0m         \u001b[0;32mreturn\u001b[0m \u001b[0minner\u001b[0m\u001b[0;34m\u001b[0m\u001b[0m\n",
      "\u001b[0;32m~/anaconda3/lib/python3.7/site-packages/web3/eth.py\u001b[0m in \u001b[0;36mcall\u001b[0;34m(self, transaction, block_identifier)\u001b[0m\n\u001b[1;32m    292\u001b[0m         return self.web3.manager.request_blocking(\n\u001b[1;32m    293\u001b[0m             \u001b[0;34m\"eth_call\"\u001b[0m\u001b[0;34m,\u001b[0m\u001b[0;34m\u001b[0m\u001b[0m\n\u001b[0;32m--> 294\u001b[0;31m             \u001b[0;34m[\u001b[0m\u001b[0mtransaction\u001b[0m\u001b[0;34m,\u001b[0m \u001b[0mblock_identifier\u001b[0m\u001b[0;34m]\u001b[0m\u001b[0;34m,\u001b[0m\u001b[0;34m\u001b[0m\u001b[0m\n\u001b[0m\u001b[1;32m    295\u001b[0m         )\n\u001b[1;32m    296\u001b[0m \u001b[0;34m\u001b[0m\u001b[0m\n",
      "\u001b[0;32m~/anaconda3/lib/python3.7/site-packages/web3/manager.py\u001b[0m in \u001b[0;36mrequest_blocking\u001b[0;34m(self, method, params)\u001b[0m\n\u001b[1;32m    110\u001b[0m \u001b[0;34m\u001b[0m\u001b[0m\n\u001b[1;32m    111\u001b[0m         \u001b[0;32mif\u001b[0m \u001b[0;34m\"error\"\u001b[0m \u001b[0;32min\u001b[0m \u001b[0mresponse\u001b[0m\u001b[0;34m:\u001b[0m\u001b[0;34m\u001b[0m\u001b[0m\n\u001b[0;32m--> 112\u001b[0;31m             \u001b[0;32mraise\u001b[0m \u001b[0mValueError\u001b[0m\u001b[0;34m(\u001b[0m\u001b[0mresponse\u001b[0m\u001b[0;34m[\u001b[0m\u001b[0;34m\"error\"\u001b[0m\u001b[0;34m]\u001b[0m\u001b[0;34m)\u001b[0m\u001b[0;34m\u001b[0m\u001b[0m\n\u001b[0m\u001b[1;32m    113\u001b[0m \u001b[0;34m\u001b[0m\u001b[0m\n\u001b[1;32m    114\u001b[0m         \u001b[0;32mreturn\u001b[0m \u001b[0mresponse\u001b[0m\u001b[0;34m[\u001b[0m\u001b[0;34m'result'\u001b[0m\u001b[0;34m]\u001b[0m\u001b[0;34m\u001b[0m\u001b[0m\n",
      "\u001b[0;31mValueError\u001b[0m: {'message': 'Attempting to run transaction which calls a contract function, but recipient address 0x9Da037af58a3fb4c2C7FF8c0814463AA6631B872 is not a contract address', 'code': -32000, 'data': {'stack': 'r: Attempting to run transaction which calls a contract function, but recipient address 0x9Da037af58a3fb4c2C7FF8c0814463AA6631B872 is not a contract address\\n    at /usr/local/lib/node_modules/ganache-cli/build/cli.node.js:149:77112\\n    at /usr/local/lib/node_modules/ganache-cli/build/cli.node.js:149:67771\\n    at /usr/local/lib/node_modules/ganache-cli/build/cli.node.js:30:126629\\n    at e.exports.i.getCode (/usr/local/lib/node_modules/ganache-cli/build/cli.node.js:2:123698)\\n    at /usr/local/lib/node_modules/ganache-cli/build/cli.node.js:30:126579\\n    at /usr/local/lib/node_modules/ganache-cli/build/cli.node.js:149:50739\\n    at /usr/local/lib/node_modules/ganache-cli/build/cli.node.js:149:54500\\n    at Object.return (/usr/local/lib/node_modules/ganache-cli/build/cli.node.js:149:54077)\\n    at /usr/local/lib/node_modules/ganache-cli/build/cli.node.js:149:52402\\n    at e (/usr/local/lib/node_modules/ganache-cli/build/cli.node.js:149:54448)\\n    at /usr/local/lib/node_modules/ganache-cli/build/cli.node.js:149:54431\\n    at /usr/local/lib/node_modules/ganache-cli/build/cli.node.js:149:51541\\n    at process._tickCallback (internal/process/next_tick.js:61:11)', 'name': 'r'}}"
     ]
    }
   ],
   "source": [
    "txhash = contract.functions.verifyTx(\n",
    "    A, A_p, B, B_p, C, C_p, H, K, I).call()\n",
    "\n",
    "# Check success\n",
    "print(txhash)\n",
    "\n",
    "# Incorrect input\n",
    "I = [2, 99]\n",
    "\n",
    "# Verify\n",
    "txhash = contract.functions.verifyTx(\n",
    "    A, A_p, B, B_p, C, C_p, H, K, I).call()\n",
    "\n",
    "# Check success\n",
    "print(txhash)"
   ]
  },
  {
   "cell_type": "code",
   "execution_count": null,
   "metadata": {},
   "outputs": [],
   "source": [
    "contract.functions.setWeights((2, 3, 4, 5, 6, 7)).call()\n",
    "newWeights = contract.functions.getWeights().call()\n",
    "print(newWeights)"
   ]
  },
  {
   "cell_type": "code",
   "execution_count": null,
   "metadata": {},
   "outputs": [],
   "source": [
    "vip = pd.read_csv('./vipScores.csv')\n",
    "list(vip)"
   ]
  },
  {
   "cell_type": "code",
   "execution_count": null,
   "metadata": {},
   "outputs": [],
   "source": [
    "I = [vip['userHash'][0],vip[\"VIP\"][0]]\n",
    "I = [int(x) for x in I]"
   ]
  },
  {
   "cell_type": "code",
   "execution_count": 6,
   "metadata": {},
   "outputs": [
    {
     "ename": "ValueError",
     "evalue": "{'message': 'Attempting to run transaction which calls a contract function, but recipient address 0x9Da037af58a3fb4c2C7FF8c0814463AA6631B872 is not a contract address', 'code': -32000, 'data': {'stack': 'r: Attempting to run transaction which calls a contract function, but recipient address 0x9Da037af58a3fb4c2C7FF8c0814463AA6631B872 is not a contract address\\n    at /usr/local/lib/node_modules/ganache-cli/build/cli.node.js:149:77112\\n    at /usr/local/lib/node_modules/ganache-cli/build/cli.node.js:149:67771\\n    at /usr/local/lib/node_modules/ganache-cli/build/cli.node.js:30:126629\\n    at e.exports.i.getCode (/usr/local/lib/node_modules/ganache-cli/build/cli.node.js:2:123698)\\n    at /usr/local/lib/node_modules/ganache-cli/build/cli.node.js:30:126579\\n    at /usr/local/lib/node_modules/ganache-cli/build/cli.node.js:149:50739\\n    at /usr/local/lib/node_modules/ganache-cli/build/cli.node.js:149:54500\\n    at Object.return (/usr/local/lib/node_modules/ganache-cli/build/cli.node.js:149:54077)\\n    at /usr/local/lib/node_modules/ganache-cli/build/cli.node.js:149:52402\\n    at e (/usr/local/lib/node_modules/ganache-cli/build/cli.node.js:149:54448)\\n    at /usr/local/lib/node_modules/ganache-cli/build/cli.node.js:149:54431\\n    at /usr/local/lib/node_modules/ganache-cli/build/cli.node.js:149:51541\\n    at process._tickCallback (internal/process/next_tick.js:61:11)', 'name': 'r'}}",
     "output_type": "error",
     "traceback": [
      "\u001b[0;31m---------------------------------------------------------------------------\u001b[0m",
      "\u001b[0;31mValueError\u001b[0m                                Traceback (most recent call last)",
      "\u001b[0;32m<ipython-input-6-d2967b591e51>\u001b[0m in \u001b[0;36m<module>\u001b[0;34m()\u001b[0m\n\u001b[1;32m      1\u001b[0m \u001b[0mProof\u001b[0m \u001b[0;34m=\u001b[0m \u001b[0mProofMap\u001b[0m\u001b[0;34m[\u001b[0m\u001b[0mI\u001b[0m\u001b[0;34m[\u001b[0m\u001b[0;36m0\u001b[0m\u001b[0;34m]\u001b[0m\u001b[0;34m]\u001b[0m\u001b[0;34m\u001b[0m\u001b[0m\n\u001b[1;32m      2\u001b[0m \u001b[0;34m\u001b[0m\u001b[0m\n\u001b[0;32m----> 3\u001b[0;31m \u001b[0mconfirm\u001b[0m \u001b[0;34m=\u001b[0m \u001b[0mcontract\u001b[0m\u001b[0;34m.\u001b[0m\u001b[0mfunctions\u001b[0m\u001b[0;34m.\u001b[0m\u001b[0mverifyTx\u001b[0m\u001b[0;34m(\u001b[0m\u001b[0;34m*\u001b[0m\u001b[0mProof\u001b[0m\u001b[0;34m,\u001b[0m \u001b[0mI\u001b[0m\u001b[0;34m)\u001b[0m\u001b[0;34m.\u001b[0m\u001b[0mcall\u001b[0m\u001b[0;34m(\u001b[0m\u001b[0;34m)\u001b[0m\u001b[0;34m\u001b[0m\u001b[0m\n\u001b[0m\u001b[1;32m      4\u001b[0m \u001b[0mprint\u001b[0m\u001b[0;34m(\u001b[0m\u001b[0mconfirm\u001b[0m\u001b[0;34m)\u001b[0m\u001b[0;34m\u001b[0m\u001b[0m\n",
      "\u001b[0;32m~/anaconda3/lib/python3.7/site-packages/web3/contract.py\u001b[0m in \u001b[0;36mcall\u001b[0;34m(self, transaction, block_identifier)\u001b[0m\n\u001b[1;32m   1118\u001b[0m             \u001b[0mself\u001b[0m\u001b[0;34m.\u001b[0m\u001b[0mabi\u001b[0m\u001b[0;34m,\u001b[0m\u001b[0;34m\u001b[0m\u001b[0m\n\u001b[1;32m   1119\u001b[0m             \u001b[0;34m*\u001b[0m\u001b[0mself\u001b[0m\u001b[0;34m.\u001b[0m\u001b[0margs\u001b[0m\u001b[0;34m,\u001b[0m\u001b[0;34m\u001b[0m\u001b[0m\n\u001b[0;32m-> 1120\u001b[0;31m             \u001b[0;34m**\u001b[0m\u001b[0mself\u001b[0m\u001b[0;34m.\u001b[0m\u001b[0mkwargs\u001b[0m\u001b[0;34m\u001b[0m\u001b[0m\n\u001b[0m\u001b[1;32m   1121\u001b[0m         )\n\u001b[1;32m   1122\u001b[0m \u001b[0;34m\u001b[0m\u001b[0m\n",
      "\u001b[0;32m~/anaconda3/lib/python3.7/site-packages/web3/contract.py\u001b[0m in \u001b[0;36mcall_contract_function\u001b[0;34m(web3, address, normalizers, function_identifier, transaction, block_id, contract_abi, fn_abi, *args, **kwargs)\u001b[0m\n\u001b[1;32m   1367\u001b[0m         \u001b[0mreturn_data\u001b[0m \u001b[0;34m=\u001b[0m \u001b[0mweb3\u001b[0m\u001b[0;34m.\u001b[0m\u001b[0meth\u001b[0m\u001b[0;34m.\u001b[0m\u001b[0mcall\u001b[0m\u001b[0;34m(\u001b[0m\u001b[0mcall_transaction\u001b[0m\u001b[0;34m)\u001b[0m\u001b[0;34m\u001b[0m\u001b[0m\n\u001b[1;32m   1368\u001b[0m     \u001b[0;32melse\u001b[0m\u001b[0;34m:\u001b[0m\u001b[0;34m\u001b[0m\u001b[0m\n\u001b[0;32m-> 1369\u001b[0;31m         \u001b[0mreturn_data\u001b[0m \u001b[0;34m=\u001b[0m \u001b[0mweb3\u001b[0m\u001b[0;34m.\u001b[0m\u001b[0meth\u001b[0m\u001b[0;34m.\u001b[0m\u001b[0mcall\u001b[0m\u001b[0;34m(\u001b[0m\u001b[0mcall_transaction\u001b[0m\u001b[0;34m,\u001b[0m \u001b[0mblock_identifier\u001b[0m\u001b[0;34m=\u001b[0m\u001b[0mblock_id\u001b[0m\u001b[0;34m)\u001b[0m\u001b[0;34m\u001b[0m\u001b[0m\n\u001b[0m\u001b[1;32m   1370\u001b[0m \u001b[0;34m\u001b[0m\u001b[0m\n\u001b[1;32m   1371\u001b[0m     \u001b[0;32mif\u001b[0m \u001b[0mfn_abi\u001b[0m \u001b[0;32mis\u001b[0m \u001b[0;32mNone\u001b[0m\u001b[0;34m:\u001b[0m\u001b[0;34m\u001b[0m\u001b[0m\n",
      "\u001b[0;32m~/anaconda3/lib/python3.7/site-packages/eth_utils/functional.py\u001b[0m in \u001b[0;36minner\u001b[0;34m(*args, **kwargs)\u001b[0m\n\u001b[1;32m     18\u001b[0m         \u001b[0;34m@\u001b[0m\u001b[0mfunctools\u001b[0m\u001b[0;34m.\u001b[0m\u001b[0mwraps\u001b[0m\u001b[0;34m(\u001b[0m\u001b[0mfn\u001b[0m\u001b[0;34m)\u001b[0m\u001b[0;34m\u001b[0m\u001b[0m\n\u001b[1;32m     19\u001b[0m         \u001b[0;32mdef\u001b[0m \u001b[0minner\u001b[0m\u001b[0;34m(\u001b[0m\u001b[0;34m*\u001b[0m\u001b[0margs\u001b[0m\u001b[0;34m,\u001b[0m \u001b[0;34m**\u001b[0m\u001b[0mkwargs\u001b[0m\u001b[0;34m)\u001b[0m\u001b[0;34m:\u001b[0m\u001b[0;34m\u001b[0m\u001b[0m\n\u001b[0;32m---> 20\u001b[0;31m             \u001b[0;32mreturn\u001b[0m \u001b[0mcallback\u001b[0m\u001b[0;34m(\u001b[0m\u001b[0mfn\u001b[0m\u001b[0;34m(\u001b[0m\u001b[0;34m*\u001b[0m\u001b[0margs\u001b[0m\u001b[0;34m,\u001b[0m \u001b[0;34m**\u001b[0m\u001b[0mkwargs\u001b[0m\u001b[0;34m)\u001b[0m\u001b[0;34m)\u001b[0m\u001b[0;34m\u001b[0m\u001b[0m\n\u001b[0m\u001b[1;32m     21\u001b[0m \u001b[0;34m\u001b[0m\u001b[0m\n\u001b[1;32m     22\u001b[0m         \u001b[0;32mreturn\u001b[0m \u001b[0minner\u001b[0m\u001b[0;34m\u001b[0m\u001b[0m\n",
      "\u001b[0;32m~/anaconda3/lib/python3.7/site-packages/web3/eth.py\u001b[0m in \u001b[0;36mcall\u001b[0;34m(self, transaction, block_identifier)\u001b[0m\n\u001b[1;32m    292\u001b[0m         return self.web3.manager.request_blocking(\n\u001b[1;32m    293\u001b[0m             \u001b[0;34m\"eth_call\"\u001b[0m\u001b[0;34m,\u001b[0m\u001b[0;34m\u001b[0m\u001b[0m\n\u001b[0;32m--> 294\u001b[0;31m             \u001b[0;34m[\u001b[0m\u001b[0mtransaction\u001b[0m\u001b[0;34m,\u001b[0m \u001b[0mblock_identifier\u001b[0m\u001b[0;34m]\u001b[0m\u001b[0;34m,\u001b[0m\u001b[0;34m\u001b[0m\u001b[0m\n\u001b[0m\u001b[1;32m    295\u001b[0m         )\n\u001b[1;32m    296\u001b[0m \u001b[0;34m\u001b[0m\u001b[0m\n",
      "\u001b[0;32m~/anaconda3/lib/python3.7/site-packages/web3/manager.py\u001b[0m in \u001b[0;36mrequest_blocking\u001b[0;34m(self, method, params)\u001b[0m\n\u001b[1;32m    110\u001b[0m \u001b[0;34m\u001b[0m\u001b[0m\n\u001b[1;32m    111\u001b[0m         \u001b[0;32mif\u001b[0m \u001b[0;34m\"error\"\u001b[0m \u001b[0;32min\u001b[0m \u001b[0mresponse\u001b[0m\u001b[0;34m:\u001b[0m\u001b[0;34m\u001b[0m\u001b[0m\n\u001b[0;32m--> 112\u001b[0;31m             \u001b[0;32mraise\u001b[0m \u001b[0mValueError\u001b[0m\u001b[0;34m(\u001b[0m\u001b[0mresponse\u001b[0m\u001b[0;34m[\u001b[0m\u001b[0;34m\"error\"\u001b[0m\u001b[0;34m]\u001b[0m\u001b[0;34m)\u001b[0m\u001b[0;34m\u001b[0m\u001b[0m\n\u001b[0m\u001b[1;32m    113\u001b[0m \u001b[0;34m\u001b[0m\u001b[0m\n\u001b[1;32m    114\u001b[0m         \u001b[0;32mreturn\u001b[0m \u001b[0mresponse\u001b[0m\u001b[0;34m[\u001b[0m\u001b[0;34m'result'\u001b[0m\u001b[0;34m]\u001b[0m\u001b[0;34m\u001b[0m\u001b[0m\n",
      "\u001b[0;31mValueError\u001b[0m: {'message': 'Attempting to run transaction which calls a contract function, but recipient address 0x9Da037af58a3fb4c2C7FF8c0814463AA6631B872 is not a contract address', 'code': -32000, 'data': {'stack': 'r: Attempting to run transaction which calls a contract function, but recipient address 0x9Da037af58a3fb4c2C7FF8c0814463AA6631B872 is not a contract address\\n    at /usr/local/lib/node_modules/ganache-cli/build/cli.node.js:149:77112\\n    at /usr/local/lib/node_modules/ganache-cli/build/cli.node.js:149:67771\\n    at /usr/local/lib/node_modules/ganache-cli/build/cli.node.js:30:126629\\n    at e.exports.i.getCode (/usr/local/lib/node_modules/ganache-cli/build/cli.node.js:2:123698)\\n    at /usr/local/lib/node_modules/ganache-cli/build/cli.node.js:30:126579\\n    at /usr/local/lib/node_modules/ganache-cli/build/cli.node.js:149:50739\\n    at /usr/local/lib/node_modules/ganache-cli/build/cli.node.js:149:54500\\n    at Object.return (/usr/local/lib/node_modules/ganache-cli/build/cli.node.js:149:54077)\\n    at /usr/local/lib/node_modules/ganache-cli/build/cli.node.js:149:52402\\n    at e (/usr/local/lib/node_modules/ganache-cli/build/cli.node.js:149:54448)\\n    at /usr/local/lib/node_modules/ganache-cli/build/cli.node.js:149:54431\\n    at /usr/local/lib/node_modules/ganache-cli/build/cli.node.js:149:51541\\n    at process._tickCallback (internal/process/next_tick.js:61:11)', 'name': 'r'}}"
     ]
    }
   ],
   "source": [
    "Proof = ProofMap[I[0]]\n",
    "\n",
    "confirm = contract.functions.verifyTx(*Proof, I).call()\n",
    "print(confirm)"
   ]
  },
  {
   "cell_type": "code",
   "execution_count": null,
   "metadata": {},
   "outputs": [],
   "source": []
  }
 ],
 "metadata": {
  "kernelspec": {
   "display_name": "Python 3",
   "language": "python",
   "name": "python3"
  },
  "language_info": {
   "codemirror_mode": {
    "name": "ipython",
    "version": 3
   },
   "file_extension": ".py",
   "mimetype": "text/x-python",
   "name": "python",
   "nbconvert_exporter": "python",
   "pygments_lexer": "ipython3",
   "version": "3.7.0"
  }
 },
 "nbformat": 4,
 "nbformat_minor": 2
}
